{
  "nbformat": 4,
  "nbformat_minor": 0,
  "metadata": {
    "colab": {
      "provenance": []
    },
    "kernelspec": {
      "name": "python3",
      "display_name": "Python 3"
    },
    "language_info": {
      "name": "python"
    }
  },
  "cells": [
    {
      "cell_type": "code",
      "source": [
        "import string\n",
        "import random"
      ],
      "metadata": {
        "id": "LGBZtzhSaTu7"
      },
      "execution_count": null,
      "outputs": []
    },
    {
      "cell_type": "code",
      "source": [],
      "metadata": {
        "id": "4uMgDKvGp8Km"
      },
      "execution_count": null,
      "outputs": []
    },
    {
      "cell_type": "code",
      "execution_count": null,
      "metadata": {
        "colab": {
          "base_uri": "https://localhost:8080/"
        },
        "id": "06iGWnMSZEQo",
        "outputId": "bcb94e55-9e7f-4b4b-bc96-f32ae6e00267"
      },
      "outputs": [
        {
          "output_type": "stream",
          "name": "stdout",
          "text": [
            "Welcome to our Random password generator\n",
            "Enter the length of password you want: 12\n",
            "-HW'JxlYo65A\n"
          ]
        }
      ],
      "source": [
        "print(\"Welcome to our Random password generator\")\n",
        "def main():\n",
        "\n",
        "  length=int(input(\"Enter the length of password you want: \"))\n",
        "  lowerD=string.ascii_lowercase\n",
        "  upperD=string.ascii_uppercase\n",
        "  digitD=string.digits\n",
        "  symbolD=string.punctuation\n",
        "  combine=lowerD+upperD+digitD+symbolD\n",
        "  x=random.sample(combine,length)\n",
        "  password=\"\".join(x)\n",
        "\n",
        "  print(password)\n",
        "\n",
        "main()"
      ]
    }
  ]
}